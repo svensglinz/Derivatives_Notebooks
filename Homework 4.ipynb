{
 "cells": [
  {
   "cell_type": "markdown",
   "id": "510a96d4-6b27-432e-b7b2-78a8d457ccfc",
   "metadata": {},
   "source": [
    "# Financial Derivatives Homework 4\n",
    "In this assignment, you will have to answer questions by adding codes or markdowns in the cells provided."
   ]
  },
  {
   "cell_type": "markdown",
   "id": "3190f460-1eed-4b78-a704-798c047e5448",
   "metadata": {},
   "source": [
    "## Part 1: Black-Scholes-Merton European Put Option Formula (20%)\n",
    "\n",
    "$P_{0} = K\\exp^{-rT}\\mathcal{N}(-d_2) - S_{t}\\mathcal{N}(-d_1)$ \n",
    "\n",
    "$d_1 = \\frac{\\ln(\\frac{S_0}{K}) + (r + \\frac{1}{2}\\sigma^2)T}{\\sigma\\sqrt{T}}$\n",
    "\n",
    "$d_2 = d_1 - \\sigma\\sqrt{T}$\n",
    "\n",
    "Derive the above **European put option** formula under the **martingale pricing approach**:"
   ]
  },
  {
   "cell_type": "markdown",
   "id": "5fcbdf2e-990d-411c-853f-2b037566b8b3",
   "metadata": {},
   "source": [
    "\n",
    "As derived in the lecture, we can express the value of a European Put Option as the discounted expected payoffs under the risk neutral \n",
    "measure \n",
    "\n",
    "$P_E = e^{-rT} \\mathbb{E}^{\\mathbb{Q}}\\big[max(K-S_T,0)\\big]\\tag1$\n",
    "\n",
    "This can be decomposed into\n",
    "\n",
    "$Ke^{-rT}\\mathbb{E}^{\\mathbb{Q}}\\big[\\mathbb{1}_{S_T < K}\\big] - \\mathbb{E}^{\\mathbb{Q}}\\big[S_Te^{-rT}\\mathbb{1}_{S_T < K}\\big]\\tag2$\n",
    "\n",
    "--- \n",
    "### 1 Calculation of $\\mathbb{E}^{\\mathbb{Q}}\\big[\\mathbb{1}_{S_T < K}\\big]$\n",
    "Since $\\mathbb{1}$ represents the indicator function which is 1 if the condition holds or zero otherwise, the Expectation of $\\mathbb{E}^{\\mathbb{Q}}\\big[\\mathbb{1}_{S_T < K}\\big]$\n",
    "Under the $\\mathbb{Q}$ Measure can be calculated as the probability that $S_T$ is smaller than $K$\n",
    "ie. $\\mathbb{E}^{\\mathbb{Q}}\\big[\\mathbb{1}_{S_T < K}\\big] = P^{\\mathbb{Q}}(S_T < K)$\n",
    "\n",
    "In order to find this probability, we have to know the distribution of $S_T$\n",
    "\n",
    "Under the risk neutral measure, $S_T$ is: \n",
    "\n",
    "$S_T = S_0e^{(r-0.5\\sigma^2)T + \\sigma \\mathbb{W_T}^{\\mathbb{Q}}}\\tag3$\n",
    "\n",
    "To find $P^{\\mathbb{Q}}(S_T < K)$ we can take logs and write: \n",
    "\n",
    "$P^{\\mathbb{Q}}\\bigg[\\sigma\\mathbb{W_T}^{\\mathbb{Q}} < -\\big[ln(S_0) - ln(K)\\big] - (r-0.5\\sigma^2)T \\bigg]\\tag4$\n",
    "\n",
    "Under $\\mathbb{Q}$, we know that $W_T^{\\mathbb{Q}}$ is equal to $z\\sqrt T$ where $z$ is a standard normally distributed shock $(\\text{ie.} z \\text{~} \\mathcal{N}(0,1))$\n",
    "\n",
    "We thus replae $W^{\\mathbb{Q}}_T$ by $z\\sqrt T$, simplify and receive: \n",
    "\n",
    "$P^{\\mathbb{Q}}\\bigg[z < \\frac{1}{\\sigma \\sqrt T}\\big[-ln\\frac{S_0}{K}-(r-0.5\\sigma^2)T\\big]\\bigg]\\tag5$\n",
    "\n",
    "First, we write the CDF of $z$ as $P^{\\mathbb{Q}}[z < x] = \\mathcal{N}(x)$\n",
    "\n",
    "Further, we can see that the term inside the brackets of $(5)$ is equal to $-d_1 + \\sigma\\sqrt T = -d_2$ and thus we can write: \n",
    "\n",
    "$\\mathbb{E}^{\\mathbb{Q}}\\big[\\mathbb{1}_{S_T < K}\\big] = \\mathcal{N}(-d_2)\\tag6$\n",
    "\n",
    "---\n",
    "\n",
    "### 2. Calculation of $\\mathbb{E}^{\\mathbb{Q}}\\big[S_Te^{-rT}\\mathbb{1}_{S_T < K}\\big]$\n",
    "\n",
    "We can again substitute $S_T$ for the expression in $(3)$, simplify, replace $W_T^{\\mathbb{Q}}$ by $z\\sqrt T$and get:\n",
    "\n",
    "$\\mathbb{E}^{\\mathbb{Q}}\\big[S_0e^{-0.5\\sigma^2T + \\sigma z\\sqrt T}\\mathbb{1}_{S_T < K}\\big]\\tag7$\n",
    "\n",
    "This expression is equal to the probability weighted discounted risk neutral stock values given that they are below the Strike Price K \n",
    "in other words: \n",
    "\n",
    "$\\displaystyle\\int_{-\\infty}^{\\text{z where S(z) = K}}e^{-rT}S(z)P(z)dz\\tag8$\n",
    "\n",
    "Since we know that $P(z) = \\mathcal{N}'(z)$, that $S(z)$ is incresing in $z$ and from $(6)$ that $P(S< K) = \\mathcal{N}(-d_2)$ we know that we must integrate from $-\\infty$ to $-d_2$. When replacing $e^{-rT}S(z)$ by the expression in $(7)$ we get: \n",
    "\n",
    "\n",
    "$S_0\\displaystyle\\int_{-\\infty}^{-d_2}e^{-0.5\\sigma^2T + \\sigma z\\sqrt T}\\frac{1}{\\sqrt{2\\pi}}e^{-\\frac{z^2}{2}}dz\\tag9$\n",
    "\n",
    "We simplify and receive: \n",
    "\n",
    "$S_0\\displaystyle\\int_{-\\infty}^{-d_2}\\frac{1}{\\sqrt{2\\pi}}e^{-\\frac{1}{2}(z-\\sigma \\sqrt T)^2}dz\\tag{10}$\n",
    "\n",
    "This is simply the CDF of a normally distributed variable with $\\sigma = 1$ and $\\mu = \\sigma \\sqrt T$\n",
    "\n",
    "If we shift the mean of the distribution by $-\\sigma \\sqrt T$ and at the same time shift the area of integration  by $-\\sigma \\sqrt T$ while leaving the shape of the distribution unchanged we receive the same result: \n",
    "We thus set $u = z-\\sigma \\sqrt T$ and $-d_2 - \\sigma \\sqrt T = -d_1 \\implies d_1 = d_2 + \\sigma \\sqrt T$ which gives us: \n",
    "\n",
    "$S_0\\displaystyle\\int_{-\\infty}^{-d_1}\\frac{1}{\\sqrt{2\\pi}}e^{-\\frac{1}{2}(u)^2}du\\tag{11}$\n",
    "\n",
    "\n",
    "This is simply $S_0\\mathcal{N}(-d_1)$\n",
    "\n",
    "---\n",
    "\n",
    "Pasting everything together to receive the value in $(2)$ at time $t$ we get: \n",
    "\n",
    "$P_E = Ke^{-rT}\\mathcal{N}(-d_2) - S_t\\mathcal{N}(-d_1)\\tag{12}$"
   ]
  },
  {
   "cell_type": "markdown",
   "id": "5aa37e9f-0640-4b6d-b1e3-439e73053880",
   "metadata": {},
   "source": [
    "## Part 2: Charm (Delta Decay) (25%)\n",
    "\n",
    "Charm (Delta Decay) of a derivative captures the instantaneous change of **delta** over **time**.\n",
    "\n",
    "$ \\text{Charm} = - \\frac{\\partial\\Delta}{\\partial\\tau} = \\frac{\\partial\\theta}{\\partial S} = \\frac{\\partial^2 V}{\\partial\\tau \\partial S} $\n",
    "\n",
    "Using the **Black-Scholes-Merton** formula and letting $\\tau = T- t$, derive the following Charm formula for **European Call Option**:\n",
    "\n",
    "$ \\text{Charm}_{c} = -\\mathcal{N}'(d_1)\\left[\\frac{2r\\tau - \\sigma\\sqrt{\\tau}d_2}{2\\sigma\\tau\\sqrt{\\tau}} \\right]$"
   ]
  },
  {
   "cell_type": "markdown",
   "id": "c81ada2f-7edd-4936-a0f3-320f30f70b9d",
   "metadata": {},
   "source": [
    "**Please fill in your answers below:**\n",
    "\n",
    "From the derivation on slide 13 of lecture 10 , we know that $\\frac{\\partial Call}{\\partial S} = \\mathcal{N}(d_1) =  \\Delta$\n",
    "\n",
    "In order to get Charm, we need to find -$\\frac{\\partial \\Delta}{\\partial \\tau} = -\\frac{\\partial \\mathcal{N}(d_1)}{\\tau}$\n",
    "\n",
    "This yields \n",
    "\n",
    "$-\\mathcal{N}'(d_1) \\frac{\\partial d_1}{\\partial \\tau} \\tag1$\n",
    "\n",
    "<br>\n",
    "\n",
    "\n",
    "Further, we know that: \n",
    "\n",
    "\\begin{equation}\\tag{2}\n",
    "  \\begin{split}\n",
    "    d_1 = \\frac{1}{\\sigma\\sqrt \\tau}\\big[ln\\frac{S_t}{K} + (r + \\frac{\\sigma^2}{2})\\tau\\big] \\\\\n",
    "   d_2 = d_1 - \\sigma\\sqrt \\tau \\\\\n",
    "  \\end{split}\n",
    "\\end{equation}\n",
    "\n",
    "\n",
    "\n",
    "\n",
    "Expanding terms in brackets of $d_1$ yields: \n",
    "\n",
    "$d_1 = \\sigma^{-1}\\tau^{-0.5}ln\\big(\\frac{S_t}{K}\\big) + (r+0.5 \\sigma^2)\\sigma^{-1} \\tau^{0.5}\\tag3$\n",
    "\n",
    "Given $(3)$ we define: \n",
    "\n",
    "\\begin{equation}\\tag{4}\n",
    "  \\begin{split}\n",
    "    a = \\sigma^{-1}ln\\big(\\frac{S_t}{K}\\big) \\\\\n",
    "    b = (r+0.5 \\sigma^2)\\sigma^{-1} \\\\\n",
    "    f(\\tau) = \\tau^{-0.5}\\\\\n",
    "    z(\\tau) =\\tau^{0.5}\\\\\n",
    "    f'(\\tau) = -0.5f(\\tau)\\tau^{-1}\\\\\n",
    "    z'(\\tau) = 0.5z(\\tau)\\tau^{-1}\\\\\n",
    "  \\end{split}\n",
    "\\end{equation}\n",
    "\n",
    "\n",
    "This yields \n",
    "\n",
    "$d_1 = af(\\tau) + bz(\\tau) \\tag5$\n",
    "\n",
    "Thus,\n",
    "\n",
    "$\\frac{\\partial d_1}{\\partial \\tau} = af'(\\tau) + bf'(\\tau)\\tag6$\n",
    "\n",
    "Substituting the derivatives of $f$ and $z$ in $(6)$ by their values as defined in $(4)$ yields \n",
    "\n",
    "$0.5\\tau^{-1}\\big[bz(\\tau) - af(\\tau)\\big]$\n",
    "\n",
    "We add and subtract $af(\\tau)$ which yields \n",
    "\n",
    "$0.5\\tau^{-1}\\big[bz(\\tau) + af(\\tau) - 2af(\\tau)\\big]\\tag7$\n",
    "\n",
    "From $(2)$ and $(5)$ we get that $af(\\tau)+bz(\\tau) = d_2 + \\sigma \\sqrt \\tau$\n",
    "\n",
    "and $2af(\\tau) = 2d_1 - 2bz(\\tau) = 2d_2 + 2\\sigma\\sqrt\\tau - 2bz(\\tau)$\n",
    "\n",
    "We substitue these expressions into $(7)$, simplify and receive: \n",
    "\n",
    "$0.5\\tau^{-1}\\big[2bz(\\tau) - d_2 - \\sigma\\sqrt\\tau \\big]\\tag8$\n",
    "\n",
    "Replacing $b$ and $z(\\tau)$ in $(8)$ by their values defined in $(4)$ and simplifying we receive: \n",
    "\n",
    "$\\frac{1}{2\\tau}\\bigg[\\frac{2r\\sqrt\\tau - d_2\\sigma}{\\sigma}\\bigg] \\tag9$\n",
    "\n",
    "We expand both numerator and denominator by $\\sqrt \\tau$ and finally receive: \n",
    "\n",
    "$\\frac{\\partial d_1}{\\partial \\tau} = \\frac{2r\\tau - d_2\\sigma\\sqrt\\tau}{2\\tau\\sigma\\sqrt\\tau} \\tag{10}$\n",
    "\n",
    "Putting everyting together we receive: \n",
    "\n",
    "$ \\text{Charm}_{c} = -\\mathcal{N}'(d_1)\\left[\\frac{2r\\tau - \\sigma\\sqrt{\\tau}d_2}{2\\sigma\\tau\\sqrt{\\tau}} \\right] \\tag{11}$\n",
    "\n"
   ]
  },
  {
   "cell_type": "code",
   "execution_count": 203,
   "id": "f850b78d-d6db-48c6-a236-162fffd324d7",
   "metadata": {},
   "outputs": [
    {
     "data": {
      "text/html": [
       "<style> table {float:left} </style>\n"
      ],
      "text/plain": [
       "<IPython.core.display.HTML object>"
      ]
     },
     "metadata": {},
     "output_type": "display_data"
    }
   ],
   "source": [
    "%%html\n",
    "<style> table {float:left} </style>"
   ]
  },
  {
   "cell_type": "markdown",
   "id": "c391d50f-e0f4-46ae-9fff-4697fe3788c5",
   "metadata": {},
   "source": [
    "## Part 3: Hedging a Portfolio of Options (25%)\n",
    "\n",
    "A bank has the following outstanding OTC options exposures on a particular underlying asset:\n",
    "\n",
    "| Options | Position | Delta | Gamma | Vega |\n",
    "| :- | -: | -: | -: | -: |\n",
    "| Call | -1000 | 0.5 | 2.2 | 1.8 |\n",
    "| Call | -500 | 0.8 | 0.6 | 0.2 |\n",
    "| Put | -2000 | -0.4 | 1.3 | 0.7 |\n",
    "| Call | -500 | 0.7 | 1.8 | 1.4 |\n"
   ]
  },
  {
   "cell_type": "markdown",
   "id": "d2765594-6c16-4165-badc-805e5301b275",
   "metadata": {},
   "source": [
    "One **exchange traded option** on the same underlying asset has a Delta of 0.6, a Gamma of 1.5, and a Vega of 0.8.\n",
    "\n",
    "Another **exchange traded option** on the same underlying asset has a Delta of 0.1, a Gamma of 0.5, and a Vega of 0.6.\n",
    "\n",
    "You have to implement a **Delta-Gamma-Vega** hedge for this bank's option portfolio. \n",
    "\n",
    "How many units of the **exchange traded option** and the **underlying asset** you have to buy/sell to **remove exposures towards all three option Greeks**?"
   ]
  },
  {
   "cell_type": "markdown",
   "id": "8037ff77-12b7-47bc-bf93-53cf94c3b6a1",
   "metadata": {},
   "source": [
    "**Please fill in your answers below:**\n",
    "\n",
    "We first compute the total Delta/Gamma/Vega of each Position and of the total Portfolio\n",
    "\n",
    "| Options | Delta | Gamma | Vega  |\n",
    "|---------|-------|-------|-------|\n",
    "| Call    | -500  | -2200 | -1800 |\n",
    "| Call    | -400  | -300  | -100  |\n",
    "| Put     | 800   | -2600 | -1400 |\n",
    "| Call    | -350  | -900  | -700  |\n",
    "| SUM     | -450  | -6000 | -4000 |\n"
   ]
  },
  {
   "cell_type": "markdown",
   "id": "d5ca34e2",
   "metadata": {},
   "source": [
    "We need to form a portfolio of x units of Option 1 (Delta = 0.6, Gamma = 1.5, Vega = 0.8), y units of Option 2 (Delta = 0.1, Gamma = 0.5, Vega = 0.6) and z units of the Underlying (Delta = 1, Gamma = 0, Vega = 0) which offsets the entire Delta Gamma and Vega Exposure: \n",
    "\n",
    "We can thus construct a linear system: \n",
    "\n",
    "\\begin{equation}\n",
    "\\begin{pmatrix}\n",
    "0.6 & 0.1 & 1\\\\\n",
    "1.5 & 0.5 & 0 \\\\\n",
    "0.8 & 0.6 & 0\n",
    "\\end{pmatrix}\n",
    "  %\n",
    "  \\begin{pmatrix}\n",
    "    x \\\\\n",
    "    y \\\\\n",
    "    z \\\\\n",
    "  \\end{pmatrix}  \n",
    "  %\n",
    "    % \n",
    "  = \\begin{pmatrix}\n",
    "    450 \\\\\n",
    "    6000 \\\\\n",
    "    4000 \\\\\n",
    "  \\end{pmatrix} \n",
    "\\end{equation}\n",
    "\n",
    "We can simply solve this by multipliying by the inverse of the coefficient Matrix as shown below and get the following result: \n",
    "- **Long 3200** Contracts of Option 1 \n",
    "- **Long 2400** Contracts of Option 2 \n",
    "- **Short 1710** Units of the Underlying"
   ]
  },
  {
   "cell_type": "code",
   "execution_count": 1,
   "id": "dc07c7fb",
   "metadata": {},
   "outputs": [
    {
     "data": {
      "text/plain": [
       "matrix([[ 3200.,  2400., -1710.]])"
      ]
     },
     "execution_count": 1,
     "metadata": {},
     "output_type": "execute_result"
    }
   ],
   "source": [
    "import numpy as np\n",
    "from numpy import linalg\n",
    "\n",
    "A = np.matrix([[0.6,0.1,1],\n",
    "            [1.5,0.5,0],\n",
    "            [0.8,0.6,0]])\n",
    "v = np.array([450,6000,4000])\n",
    "\n",
    "linalg.inv(A)@v"
   ]
  },
  {
   "cell_type": "markdown",
   "id": "a975d1ea-03f9-4b0a-b20f-cbf236f916b2",
   "metadata": {},
   "source": [
    "## Part 4: Monte Carlo Simulation for Pricing Barrier Options (30%)"
   ]
  },
  {
   "cell_type": "markdown",
   "id": "6e079329-43b2-4ff5-8975-a7d57eb6b0dc",
   "metadata": {},
   "source": [
    "### a) Knock-in Up and In Call Option (15%)\n",
    "\n",
    "$ H = 110 $\n",
    "\n",
    "$ K = 120 $\n",
    "\n",
    "If $ S_\\tau > H $, the call option is activated.\n",
    "\n",
    "You should get 5.97."
   ]
  },
  {
   "cell_type": "code",
   "execution_count": 22,
   "id": "8288b7fe-d6cb-4b50-b6c1-a0aac6bfd849",
   "metadata": {},
   "outputs": [
    {
     "data": {
      "text/plain": [
       "5.97"
      ]
     },
     "execution_count": 22,
     "metadata": {},
     "output_type": "execute_result"
    }
   ],
   "source": [
    "np.random.seed(5)\n",
    "import math as m\n",
    "\n",
    "#define parameters\n",
    "T = 1\n",
    "r = 0.05\n",
    "v = 0.25\n",
    "S = 100\n",
    "H = 110\n",
    "K = 120\n",
    "nsim = 500\n",
    "nstep = 260\n",
    "\n",
    "def upandin(H,K,S,T,v,r, nsim, nstep):\n",
    "    \n",
    "    #create risk neutral Stock Price Paths\n",
    "    e = np.random.normal(0,1, size=(nsim,nstep))\n",
    "    drift = (r-0.5*v**2)*(T/nstep)\n",
    "    shock = v*m.sqrt(T/nstep)*e\n",
    "    S_t = S * np.exp((drift + shock).cumsum(axis = 1))\n",
    "    \n",
    "    #Check which Price Paths have exceeded the Knock in level at least once\n",
    "    knocked_in = np.any(S_t > H, axis = 1)\n",
    "    #Select the Terminal Stock Price of the Paths where the Knock in level has been reached\n",
    "    S_knocked_in_T = S_t[knocked_in,(nstep -1)]\n",
    "    \n",
    "    #Calculate the Option Values for the knocked in Options\n",
    "    Price = np.maximum(S_knocked_in_T - K, 0)\n",
    "    \n",
    "    #reuturn average of all Option Values (those where Knock-in was not reached are worth 0)\n",
    "    return np.sum(Price)/nsim * np.exp(-r*T)\n",
    "\n",
    "\n",
    "round(upandin(H,K,S,T,v,r,nsim,nstep),2)\n"
   ]
  },
  {
   "cell_type": "markdown",
   "id": "6664adbb-7723-4ec2-aa15-3db2bde52ee6",
   "metadata": {},
   "source": [
    "### b) Knock-out Down and Out Put Option (15%)\n",
    "\n",
    "$ H = 90 $\n",
    "\n",
    "$ K = 100 $\n",
    "\n",
    "If $ S_\\tau < H$, the put option is expired.\n",
    "\n",
    "You should get 0.11."
   ]
  },
  {
   "cell_type": "code",
   "execution_count": 14,
   "id": "788ca33b-d755-4ef0-a3d7-9933e5d0c4dd",
   "metadata": {},
   "outputs": [
    {
     "data": {
      "text/plain": [
       "0.11"
      ]
     },
     "execution_count": 14,
     "metadata": {},
     "output_type": "execute_result"
    }
   ],
   "source": [
    "np.random.seed(5)\n",
    "\n",
    "#define parameters\n",
    "T = 1\n",
    "r = 0.05\n",
    "v = 0.25\n",
    "S = 100\n",
    "H = 90\n",
    "K = 100\n",
    "nsim = 500\n",
    "nstep = 260\n",
    "\n",
    "def downandout(H,K,S,T,v,r, nsim, nstep):\n",
    "    \n",
    "    #create risk neutral Stock Price Paths\n",
    "    e = np.random.normal(0,1, size=(nsim,nstep))\n",
    "    drift = (r-0.5*v**2)*(T/nstep)\n",
    "    shock = v*m.sqrt(T/nstep)*e\n",
    "    S_t = S * np.exp((drift + shock).cumsum(axis = 1))\n",
    "    \n",
    "    #Check which Price Paths have fallen below the Knock out level \n",
    "    knocked_out = np.any(S_t < H, axis = 1)\n",
    "    #Change True to False and False to True -> Allows us to delete the Price paths where the Knock out value was reached\n",
    "    keep = np.where(knocked_out == True, False, True)\n",
    "    \n",
    "    #Select the Terminal Stock Price of the Paths where the Knock out level was not reached\n",
    "    S_not_knocked_out_T = S_t[keep,(nstep -1)]\n",
    "    \n",
    "    #Calculate the Option Values for not knocked out options\n",
    "    Price = np.maximum(K- S_not_knocked_out_T, 0)\n",
    "    \n",
    "    #reuturn average of all Option Values (those where Knock out was reached are worth 0)\n",
    "    return np.sum(Price)/nsim * np.exp(-r*T)\n",
    "\n",
    "round(downandout(H,K,S,T,v,r,nsim,nstep),2)"
   ]
  }
 ],
 "metadata": {
  "kernelspec": {
   "display_name": "Python 3 (ipykernel)",
   "language": "python",
   "name": "python3"
  },
  "language_info": {
   "codemirror_mode": {
    "name": "ipython",
    "version": 3
   },
   "file_extension": ".py",
   "mimetype": "text/x-python",
   "name": "python",
   "nbconvert_exporter": "python",
   "pygments_lexer": "ipython3",
   "version": "3.9.7"
  }
 },
 "nbformat": 4,
 "nbformat_minor": 5
}
